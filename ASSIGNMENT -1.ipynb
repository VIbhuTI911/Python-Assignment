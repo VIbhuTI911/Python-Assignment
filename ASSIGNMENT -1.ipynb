{
 "cells": [
  {
   "cell_type": "markdown",
   "id": "5bbaf09a",
   "metadata": {},
   "source": [
    "ASSIGNMENT -1\n"
   ]
  },
  {
   "cell_type": "raw",
   "id": "ac31fa48",
   "metadata": {},
   "source": [
    "1. In the below elements which of them are values or an expression? eg:- values can be integer or string and expressions will be mathematical operators."
   ]
  },
  {
   "cell_type": "markdown",
   "id": "2d0be4bb",
   "metadata": {},
   "source": []
  },
  {
   "cell_type": "raw",
   "id": "37982e54",
   "metadata": {},
   "source": [
    "2. What is the difference between string and variable?"
   ]
  },
  {
   "cell_type": "markdown",
   "id": "bf69c673",
   "metadata": {},
   "source": [
    "String: String can be written in quotes such: \"abc\", 'abc'\n",
    "\n",
    "Variable: It is the thing in which we can store data just like a container."
   ]
  },
  {
   "cell_type": "raw",
   "id": "2cddde05",
   "metadata": {},
   "source": [
    "3. Describe three different data types."
   ]
  },
  {
   "cell_type": "markdown",
   "id": "26338a00",
   "metadata": {},
   "source": [
    "List: the list is used for storing multiple data items in a single variable.\n",
    "\n",
    "Integer: integer can store only numerical values.\n",
    "\n",
    "Float: float can store only floating values such as 233.33, 22.2, etc."
   ]
  },
  {
   "cell_type": "raw",
   "id": "fe7c8afc",
   "metadata": {},
   "source": [
    "4. What is an expression made up of? What do all expressions do? "
   ]
  },
  {
   "cell_type": "markdown",
   "id": "8c8219ae",
   "metadata": {},
   "source": [
    "Expression is made up of values, containers, and mathematical operators (operands) e.g \n",
    "a = 2 + 3     and expressions are used to evaluate the values or represent the result on the screen."
   ]
  },
  {
   "cell_type": "raw",
   "id": "c01e2e7b",
   "metadata": {},
   "source": [
    "5. This assignment statements, like spam = 10. What is the difference between an expression and a statement?"
   ]
  },
  {
   "cell_type": "markdown",
   "id": "9bd93c91",
   "metadata": {},
   "source": [
    "Expression is made up of values, containers, and mathematical operators (operands) and the statement is just like a command that a python interpreter executes like print."
   ]
  },
  {
   "cell_type": "raw",
   "id": "c04a7ff2",
   "metadata": {},
   "source": [
    "6. After running the following code, what does the variable bacon contain?"
   ]
  },
  {
   "cell_type": "code",
   "execution_count": 2,
   "id": "7e25f42b",
   "metadata": {},
   "outputs": [
    {
     "data": {
      "text/plain": [
       "23"
      ]
     },
     "execution_count": 2,
     "metadata": {},
     "output_type": "execute_result"
    }
   ],
   "source": [
    "bacon = 22\n",
    "\n",
    "bacon + 1"
   ]
  },
  {
   "cell_type": "raw",
   "id": "a4a15eda",
   "metadata": {},
   "source": [
    "7. What should the values of the following two terms be?"
   ]
  },
  {
   "cell_type": "code",
   "execution_count": 3,
   "id": "421f2809",
   "metadata": {},
   "outputs": [
    {
     "data": {
      "text/plain": [
       "'spamspamspam'"
      ]
     },
     "execution_count": 3,
     "metadata": {},
     "output_type": "execute_result"
    }
   ],
   "source": [
    "'spam' + 'spamspam'"
   ]
  },
  {
   "cell_type": "code",
   "execution_count": 4,
   "id": "697fc2cf",
   "metadata": {},
   "outputs": [
    {
     "data": {
      "text/plain": [
       "'spamspamspam'"
      ]
     },
     "execution_count": 4,
     "metadata": {},
     "output_type": "execute_result"
    }
   ],
   "source": [
    "'spam' * 3"
   ]
  },
  {
   "cell_type": "raw",
   "id": "a4273eea",
   "metadata": {},
   "source": [
    "8. Why is eggs a valid variable name while 100 is invalid?"
   ]
  },
  {
   "cell_type": "markdown",
   "id": "02513b3c",
   "metadata": {},
   "source": [
    "Because we can't start giving variable an integer name. if we, we should begin with, a string-like alphabet name then integer. e100 or eggs100 is valid"
   ]
  },
  {
   "cell_type": "raw",
   "id": "8302d4e4",
   "metadata": {},
   "source": [
    "9. What three functions can be used to get the integer, floating-point number, or string version of a value?"
   ]
  },
  {
   "cell_type": "markdown",
   "id": "39c9e546",
   "metadata": {},
   "source": [
    "str(), int(), float()"
   ]
  },
  {
   "cell_type": "raw",
   "id": "7df9b742",
   "metadata": {},
   "source": [
    "10. Why does this expression cause an error? How can you fix it?\n",
    "\n",
    "'I have eaten' + 99 + 'burritos' "
   ]
  },
  {
   "cell_type": "markdown",
   "id": "3fffd09a",
   "metadata": {},
   "source": [
    "Because 99 is an integer it cannot be concatenated with strings, if we have to concatenate it we need to do typecasting."
   ]
  },
  {
   "cell_type": "code",
   "execution_count": null,
   "id": "24945b12",
   "metadata": {},
   "outputs": [],
   "source": []
  }
 ],
 "metadata": {
  "kernelspec": {
   "display_name": "Python 3 (ipykernel)",
   "language": "python",
   "name": "python3"
  },
  "language_info": {
   "codemirror_mode": {
    "name": "ipython",
    "version": 3
   },
   "file_extension": ".py",
   "mimetype": "text/x-python",
   "name": "python",
   "nbconvert_exporter": "python",
   "pygments_lexer": "ipython3",
   "version": "3.9.12"
  }
 },
 "nbformat": 4,
 "nbformat_minor": 5
}
